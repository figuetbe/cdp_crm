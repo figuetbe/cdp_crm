{
 "cells": [
  {
   "cell_type": "markdown",
   "metadata": {},
   "source": [
    "# Climb / Descend Procedure - Collision Risk Modelling"
   ]
  },
  {
   "cell_type": "code",
   "execution_count": 1,
   "metadata": {},
   "outputs": [],
   "source": [
    "import scipy.stats as st\n",
    "from scipy.integrate import nquad\n",
    "import numpy as np\n",
    "from functools import lru_cache\n",
    "import plotly.graph_objects as go\n"
   ]
  },
  {
   "cell_type": "markdown",
   "metadata": {},
   "source": [
    "### Modelling\n"
   ]
  },
  {
   "cell_type": "code",
   "execution_count": 2,
   "metadata": {},
   "outputs": [],
   "source": [
    "@lru_cache(maxsize=None)\n",
    "def get_p_excess(speed_diff_std, max_speed_difference, speed_error_scale, k=50000000):\n",
    "    \"\"\"Probability of follower faster by max_speed_difference than the leader.\"\"\"\n",
    "    # Generate random samples\n",
    "    v_follower = st.truncnorm(\n",
    "        loc=0, scale=speed_diff_std, a=-np.inf, b=max_speed_difference / speed_diff_std\n",
    "    )\n",
    "    speed_error_follower = st.laplace(0, speed_error_scale)\n",
    "    sample_speed_follower = v_follower.rvs(k) + speed_error_follower.rvs(k)\n",
    "\n",
    "    # Filter samples\n",
    "    vexcess = sample_speed_follower[sample_speed_follower > max_speed_difference]\n",
    "    return len(vexcess) / k\n",
    "\n",
    "\n",
    "def p_mac(\n",
    "    minute_climb,\n",
    "    initial_longitudinal_spacing,\n",
    "    lambda_xy_m,\n",
    "    lambda_z_ft,\n",
    "    max_speed_difference,\n",
    "    speed_error_scale,\n",
    "    climb_rate,\n",
    "    speed_diff_std,\n",
    "    **kwargs,\n",
    "):\n",
    "    \"\"\"\n",
    "    Calculate CDP  collision probability.\n",
    "\n",
    "    Parameters\n",
    "    ----------\n",
    "    minute_climb : float\n",
    "        Minute when the climb/descend is initiated (from\n",
    "        when the CDP clock is started).\n",
    "    initial_longitudinal_spacing : float\n",
    "        Initial longitudinal spacing between aircrafts.\n",
    "    lambda_xy_m : float\n",
    "        Aircraft length in [m].\n",
    "    lambda_z_ft : float\n",
    "        Aircraft height [ft].\n",
    "    max_speed_difference : float\n",
    "        Maximum difference in velocities between aircrafts allowed by the procedure.\n",
    "    speed_error_scale : float\n",
    "        Scale of speed error during climb (laplace dist).\n",
    "    climb_rate : float\n",
    "        Rate of climb [ft/min].\n",
    "    speed_diff_std : float\n",
    "        Standard deviation of speed difference.\n",
    "\n",
    "    Returns\n",
    "    -------\n",
    "    float\n",
    "        The probability of overlap.\n",
    "\n",
    "    \"\"\"\n",
    "\n",
    "    NM2M = 1852\n",
    "    level_spacing_ft = 1000\n",
    "\n",
    "    # Calculate times for vertical overlap start and end\n",
    "    t_start_volap = (\n",
    "        minute_climb + level_spacing_ft / climb_rate - lambda_z_ft / climb_rate\n",
    "    )\n",
    "    t_stop_volap = (\n",
    "        minute_climb + level_spacing_ft / climb_rate + lambda_z_ft / climb_rate\n",
    "    )\n",
    "\n",
    "    # Calculate minimum and maximum closing speeds to collide\n",
    "    v_col_min = (\n",
    "        60\n",
    "        * (np.abs(initial_longitudinal_spacing) - 1 * lambda_xy_m / NM2M)\n",
    "        / t_stop_volap\n",
    "    )\n",
    "    v_col_max = (\n",
    "        60\n",
    "        * (np.abs(initial_longitudinal_spacing) + 1 * lambda_xy_m / NM2M)\n",
    "        / t_start_volap\n",
    "    )\n",
    "\n",
    "    # Calculate probability of overlap given excess\n",
    "    polap_given_excess = st.expon.cdf(\n",
    "        loc=0, scale=speed_error_scale, x=v_col_max - max_speed_difference\n",
    "    ) - st.expon.cdf(loc=0, scale=speed_error_scale, x=v_col_min - max_speed_difference)\n",
    "\n",
    "    # Calculate excess probability\n",
    "    excess_probability = get_p_excess(\n",
    "        speed_diff_std, max_speed_difference, speed_error_scale, **kwargs\n",
    "    )\n",
    "\n",
    "    return polap_given_excess * excess_probability"
   ]
  },
  {
   "cell_type": "markdown",
   "metadata": {},
   "source": [
    "### Let's check on a Specific case\n"
   ]
  },
  {
   "cell_type": "code",
   "execution_count": 3,
   "metadata": {},
   "outputs": [
    {
     "name": "stdout",
     "output_type": "stream",
     "text": [
      "Probability of collision: 3.911e-10\n"
     ]
    }
   ],
   "source": [
    "p = p_mac(\n",
    "    minute_climb=10,  # minutes after CDP clock start the climb is initiated\n",
    "    initial_longitudinal_spacing=15,  # longitudinal separation when the clock starts [NM]\n",
    "    lambda_xy_m=70,  # aircraft length [m]\n",
    "    lambda_z_ft=56,  # aircraft height [ft]\n",
    "    max_speed_difference=0,  # allowed speed difference (positive when the follower is faster) [knots]\n",
    "    speed_error_scale=4.5,  # speed error scale (laplace distribution)\n",
    "    climb_rate=1000,  # vertical rate [ft/min]\n",
    "    speed_diff_std=15,  # standard deviation of speed difference [knots]\n",
    ")\n",
    "\n",
    "print(f\"Probability of collision: {p:.3e}\")"
   ]
  },
  {
   "cell_type": "markdown",
   "metadata": {},
   "source": [
    "### Let's do a bit of averaging:\n",
    "\n",
    "Let assume that the climb minute is uniformally distributed between 3 and 13 minutes and the initial longitudinal spacing is uniformally distributed between 15 and 30 NM\n"
   ]
  },
  {
   "cell_type": "code",
   "execution_count": 4,
   "metadata": {},
   "outputs": [
    {
     "name": "stdout",
     "output_type": "stream",
     "text": [
      "Probability of collision: 8.477e-11\n"
     ]
    }
   ],
   "source": [
    "def averaged_risk(\n",
    "    minute_climb_dist,\n",
    "    initial_longitudinal_spacing_dist,\n",
    "    lambda_xy_m,\n",
    "    lambda_z_ft,\n",
    "    max_speed_difference,\n",
    "    speed_error_scale,\n",
    "    climb_rate,\n",
    "    speed_diff_std,\n",
    "    ppf_bound=1e-12,\n",
    "    **kwargs,\n",
    "):\n",
    "    p, error = nquad(\n",
    "        lambda minute_climb, initial_longitudinal_spacing: p_mac(\n",
    "            minute_climb,\n",
    "            initial_longitudinal_spacing,\n",
    "            lambda_xy_m,\n",
    "            lambda_z_ft,\n",
    "            max_speed_difference,\n",
    "            speed_error_scale,\n",
    "            climb_rate,\n",
    "            speed_diff_std,\n",
    "        )\n",
    "        * minute_climb_dist.pdf(minute_climb)\n",
    "        * initial_longitudinal_spacing_dist.pdf(initial_longitudinal_spacing),\n",
    "        [\n",
    "            [minute_climb_dist.ppf(ppf_bound), minute_climb_dist.ppf(1 - ppf_bound)],\n",
    "            [\n",
    "                initial_longitudinal_spacing_dist.ppf(ppf_bound),\n",
    "                initial_longitudinal_spacing_dist.ppf(1 - ppf_bound),\n",
    "            ],\n",
    "        ],\n",
    "    )\n",
    "    if error > 1e-6:  # or whatever threshold you consider acceptable\n",
    "        raise ValueError(\n",
    "            f\"Did not converge with good precision, error: {error}\"\n",
    "        )\n",
    "    return p\n",
    "\n",
    "\n",
    "initial_longitudinal_spacing_dist = st.uniform(15, 30 - 15)\n",
    "minute_climb_dist = st.uniform(3, 13 - 3)\n",
    "\n",
    "p = averaged_risk(\n",
    "    minute_climb_dist=minute_climb_dist,\n",
    "    initial_longitudinal_spacing_dist=initial_longitudinal_spacing_dist,\n",
    "    lambda_xy_m=70,\n",
    "    lambda_z_ft=56,\n",
    "    max_speed_difference=0,\n",
    "    speed_error_scale=4.5,\n",
    "    climb_rate=1000,\n",
    "    speed_diff_std=15,\n",
    ")\n",
    "\n",
    "print(f\"Probability of collision: {p:.3e}\")"
   ]
  },
  {
   "cell_type": "code",
   "execution_count": 6,
   "metadata": {},
   "outputs": [
    {
     "data": {
      "application/vnd.plotly.v1+json": {
       "config": {
        "plotlyServerURL": "https://plot.ly"
       },
       "data": [
        {
         "legendgroup": "speed_error_scale",
         "legendgrouptitle": {
          "text": "speed_error_scale:"
         },
         "name": "4.5",
         "type": "scatter",
         "x": [
          20,
          19,
          18,
          17,
          16,
          15,
          14,
          13,
          12,
          11,
          10,
          9,
          8,
          7,
          6
         ],
         "y": [
          1.997924574530241e-12,
          4.77473690986031e-12,
          1.1519641466357738e-11,
          2.8025115039734167e-11,
          6.869305256500167e-11,
          1.6954373481154854e-10,
          4.2120254382796734e-10,
          1.0530707939049445e-9,
          2.6495722734336416e-9,
          6.709975094712236e-9,
          1.711043028011555e-8,
          4.396210178900335e-8,
          1.1392224182927884e-7,
          2.9819656324144027e-7,
          7.902048973092972e-7
         ]
        },
        {
         "legendgroup": "speed_error_scale",
         "legendgrouptitle": {
          "text": "speed_error_scale:"
         },
         "name": "5.5",
         "type": "scatter",
         "x": [
          20,
          19,
          18,
          17,
          16,
          15,
          14,
          13,
          12,
          11,
          10,
          9,
          8,
          7,
          6
         ],
         "y": [
          9.177777538398482e-11,
          1.8441841580458454e-10,
          3.740485083674912e-10,
          7.649343097593285e-10,
          1.575924256325625e-9,
          3.268935031620813e-9,
          6.8244550301137185e-9,
          1.4336011331632942e-8,
          3.030184570694789e-8,
          6.445382092595434e-8,
          1.3801056118545418e-7,
          2.9765388072507414e-7,
          6.471989661160266e-7,
          0.0000014206254031547389,
          0.000003154430291810493
         ]
        },
        {
         "legendgroup": "speed_error_scale",
         "legendgrouptitle": {
          "text": "speed_error_scale:"
         },
         "name": "6.5",
         "type": "scatter",
         "x": [
          20,
          19,
          18,
          17,
          16,
          15,
          14,
          13,
          12,
          11,
          10,
          9,
          8,
          7,
          6
         ],
         "y": [
          1.355998582761537e-9,
          2.416967291260452e-9,
          4.347464699012717e-9,
          7.883225798660054e-9,
          1.4399014222410288e-8,
          2.647724250751287e-8,
          4.89952463888848e-8,
          9.121759721441168e-8,
          1.7085151872579167e-7,
          3.219727387885482e-7,
          6.106683217101768e-7,
          0.0000011662797179743894,
          0.000002244736989854402,
          0.000004359418448429227,
          0.00000855845337074179
         ]
        }
       ],
       "layout": {
        "shapes": [
         {
          "line": {
           "color": "black",
           "dash": "dash"
          },
          "type": "line",
          "x0": 0,
          "x1": 1,
          "xref": "x domain",
          "y0": 4e-8,
          "y1": 4e-8,
          "yref": "y"
         }
        ],
        "template": {
         "data": {
          "bar": [
           {
            "error_x": {
             "color": "#2a3f5f"
            },
            "error_y": {
             "color": "#2a3f5f"
            },
            "marker": {
             "line": {
              "color": "#E5ECF6",
              "width": 0.5
             },
             "pattern": {
              "fillmode": "overlay",
              "size": 10,
              "solidity": 0.2
             }
            },
            "type": "bar"
           }
          ],
          "barpolar": [
           {
            "marker": {
             "line": {
              "color": "#E5ECF6",
              "width": 0.5
             },
             "pattern": {
              "fillmode": "overlay",
              "size": 10,
              "solidity": 0.2
             }
            },
            "type": "barpolar"
           }
          ],
          "carpet": [
           {
            "aaxis": {
             "endlinecolor": "#2a3f5f",
             "gridcolor": "white",
             "linecolor": "white",
             "minorgridcolor": "white",
             "startlinecolor": "#2a3f5f"
            },
            "baxis": {
             "endlinecolor": "#2a3f5f",
             "gridcolor": "white",
             "linecolor": "white",
             "minorgridcolor": "white",
             "startlinecolor": "#2a3f5f"
            },
            "type": "carpet"
           }
          ],
          "choropleth": [
           {
            "colorbar": {
             "outlinewidth": 0,
             "ticks": ""
            },
            "type": "choropleth"
           }
          ],
          "contour": [
           {
            "colorbar": {
             "outlinewidth": 0,
             "ticks": ""
            },
            "colorscale": [
             [
              0,
              "#0d0887"
             ],
             [
              0.1111111111111111,
              "#46039f"
             ],
             [
              0.2222222222222222,
              "#7201a8"
             ],
             [
              0.3333333333333333,
              "#9c179e"
             ],
             [
              0.4444444444444444,
              "#bd3786"
             ],
             [
              0.5555555555555556,
              "#d8576b"
             ],
             [
              0.6666666666666666,
              "#ed7953"
             ],
             [
              0.7777777777777778,
              "#fb9f3a"
             ],
             [
              0.8888888888888888,
              "#fdca26"
             ],
             [
              1,
              "#f0f921"
             ]
            ],
            "type": "contour"
           }
          ],
          "contourcarpet": [
           {
            "colorbar": {
             "outlinewidth": 0,
             "ticks": ""
            },
            "type": "contourcarpet"
           }
          ],
          "heatmap": [
           {
            "colorbar": {
             "outlinewidth": 0,
             "ticks": ""
            },
            "colorscale": [
             [
              0,
              "#0d0887"
             ],
             [
              0.1111111111111111,
              "#46039f"
             ],
             [
              0.2222222222222222,
              "#7201a8"
             ],
             [
              0.3333333333333333,
              "#9c179e"
             ],
             [
              0.4444444444444444,
              "#bd3786"
             ],
             [
              0.5555555555555556,
              "#d8576b"
             ],
             [
              0.6666666666666666,
              "#ed7953"
             ],
             [
              0.7777777777777778,
              "#fb9f3a"
             ],
             [
              0.8888888888888888,
              "#fdca26"
             ],
             [
              1,
              "#f0f921"
             ]
            ],
            "type": "heatmap"
           }
          ],
          "heatmapgl": [
           {
            "colorbar": {
             "outlinewidth": 0,
             "ticks": ""
            },
            "colorscale": [
             [
              0,
              "#0d0887"
             ],
             [
              0.1111111111111111,
              "#46039f"
             ],
             [
              0.2222222222222222,
              "#7201a8"
             ],
             [
              0.3333333333333333,
              "#9c179e"
             ],
             [
              0.4444444444444444,
              "#bd3786"
             ],
             [
              0.5555555555555556,
              "#d8576b"
             ],
             [
              0.6666666666666666,
              "#ed7953"
             ],
             [
              0.7777777777777778,
              "#fb9f3a"
             ],
             [
              0.8888888888888888,
              "#fdca26"
             ],
             [
              1,
              "#f0f921"
             ]
            ],
            "type": "heatmapgl"
           }
          ],
          "histogram": [
           {
            "marker": {
             "pattern": {
              "fillmode": "overlay",
              "size": 10,
              "solidity": 0.2
             }
            },
            "type": "histogram"
           }
          ],
          "histogram2d": [
           {
            "colorbar": {
             "outlinewidth": 0,
             "ticks": ""
            },
            "colorscale": [
             [
              0,
              "#0d0887"
             ],
             [
              0.1111111111111111,
              "#46039f"
             ],
             [
              0.2222222222222222,
              "#7201a8"
             ],
             [
              0.3333333333333333,
              "#9c179e"
             ],
             [
              0.4444444444444444,
              "#bd3786"
             ],
             [
              0.5555555555555556,
              "#d8576b"
             ],
             [
              0.6666666666666666,
              "#ed7953"
             ],
             [
              0.7777777777777778,
              "#fb9f3a"
             ],
             [
              0.8888888888888888,
              "#fdca26"
             ],
             [
              1,
              "#f0f921"
             ]
            ],
            "type": "histogram2d"
           }
          ],
          "histogram2dcontour": [
           {
            "colorbar": {
             "outlinewidth": 0,
             "ticks": ""
            },
            "colorscale": [
             [
              0,
              "#0d0887"
             ],
             [
              0.1111111111111111,
              "#46039f"
             ],
             [
              0.2222222222222222,
              "#7201a8"
             ],
             [
              0.3333333333333333,
              "#9c179e"
             ],
             [
              0.4444444444444444,
              "#bd3786"
             ],
             [
              0.5555555555555556,
              "#d8576b"
             ],
             [
              0.6666666666666666,
              "#ed7953"
             ],
             [
              0.7777777777777778,
              "#fb9f3a"
             ],
             [
              0.8888888888888888,
              "#fdca26"
             ],
             [
              1,
              "#f0f921"
             ]
            ],
            "type": "histogram2dcontour"
           }
          ],
          "mesh3d": [
           {
            "colorbar": {
             "outlinewidth": 0,
             "ticks": ""
            },
            "type": "mesh3d"
           }
          ],
          "parcoords": [
           {
            "line": {
             "colorbar": {
              "outlinewidth": 0,
              "ticks": ""
             }
            },
            "type": "parcoords"
           }
          ],
          "pie": [
           {
            "automargin": true,
            "type": "pie"
           }
          ],
          "scatter": [
           {
            "fillpattern": {
             "fillmode": "overlay",
             "size": 10,
             "solidity": 0.2
            },
            "type": "scatter"
           }
          ],
          "scatter3d": [
           {
            "line": {
             "colorbar": {
              "outlinewidth": 0,
              "ticks": ""
             }
            },
            "marker": {
             "colorbar": {
              "outlinewidth": 0,
              "ticks": ""
             }
            },
            "type": "scatter3d"
           }
          ],
          "scattercarpet": [
           {
            "marker": {
             "colorbar": {
              "outlinewidth": 0,
              "ticks": ""
             }
            },
            "type": "scattercarpet"
           }
          ],
          "scattergeo": [
           {
            "marker": {
             "colorbar": {
              "outlinewidth": 0,
              "ticks": ""
             }
            },
            "type": "scattergeo"
           }
          ],
          "scattergl": [
           {
            "marker": {
             "colorbar": {
              "outlinewidth": 0,
              "ticks": ""
             }
            },
            "type": "scattergl"
           }
          ],
          "scattermapbox": [
           {
            "marker": {
             "colorbar": {
              "outlinewidth": 0,
              "ticks": ""
             }
            },
            "type": "scattermapbox"
           }
          ],
          "scatterpolar": [
           {
            "marker": {
             "colorbar": {
              "outlinewidth": 0,
              "ticks": ""
             }
            },
            "type": "scatterpolar"
           }
          ],
          "scatterpolargl": [
           {
            "marker": {
             "colorbar": {
              "outlinewidth": 0,
              "ticks": ""
             }
            },
            "type": "scatterpolargl"
           }
          ],
          "scatterternary": [
           {
            "marker": {
             "colorbar": {
              "outlinewidth": 0,
              "ticks": ""
             }
            },
            "type": "scatterternary"
           }
          ],
          "surface": [
           {
            "colorbar": {
             "outlinewidth": 0,
             "ticks": ""
            },
            "colorscale": [
             [
              0,
              "#0d0887"
             ],
             [
              0.1111111111111111,
              "#46039f"
             ],
             [
              0.2222222222222222,
              "#7201a8"
             ],
             [
              0.3333333333333333,
              "#9c179e"
             ],
             [
              0.4444444444444444,
              "#bd3786"
             ],
             [
              0.5555555555555556,
              "#d8576b"
             ],
             [
              0.6666666666666666,
              "#ed7953"
             ],
             [
              0.7777777777777778,
              "#fb9f3a"
             ],
             [
              0.8888888888888888,
              "#fdca26"
             ],
             [
              1,
              "#f0f921"
             ]
            ],
            "type": "surface"
           }
          ],
          "table": [
           {
            "cells": {
             "fill": {
              "color": "#EBF0F8"
             },
             "line": {
              "color": "white"
             }
            },
            "header": {
             "fill": {
              "color": "#C8D4E3"
             },
             "line": {
              "color": "white"
             }
            },
            "type": "table"
           }
          ]
         },
         "layout": {
          "annotationdefaults": {
           "arrowcolor": "#2a3f5f",
           "arrowhead": 0,
           "arrowwidth": 1
          },
          "autotypenumbers": "strict",
          "coloraxis": {
           "colorbar": {
            "outlinewidth": 0,
            "ticks": ""
           }
          },
          "colorscale": {
           "diverging": [
            [
             0,
             "#8e0152"
            ],
            [
             0.1,
             "#c51b7d"
            ],
            [
             0.2,
             "#de77ae"
            ],
            [
             0.3,
             "#f1b6da"
            ],
            [
             0.4,
             "#fde0ef"
            ],
            [
             0.5,
             "#f7f7f7"
            ],
            [
             0.6,
             "#e6f5d0"
            ],
            [
             0.7,
             "#b8e186"
            ],
            [
             0.8,
             "#7fbc41"
            ],
            [
             0.9,
             "#4d9221"
            ],
            [
             1,
             "#276419"
            ]
           ],
           "sequential": [
            [
             0,
             "#0d0887"
            ],
            [
             0.1111111111111111,
             "#46039f"
            ],
            [
             0.2222222222222222,
             "#7201a8"
            ],
            [
             0.3333333333333333,
             "#9c179e"
            ],
            [
             0.4444444444444444,
             "#bd3786"
            ],
            [
             0.5555555555555556,
             "#d8576b"
            ],
            [
             0.6666666666666666,
             "#ed7953"
            ],
            [
             0.7777777777777778,
             "#fb9f3a"
            ],
            [
             0.8888888888888888,
             "#fdca26"
            ],
            [
             1,
             "#f0f921"
            ]
           ],
           "sequentialminus": [
            [
             0,
             "#0d0887"
            ],
            [
             0.1111111111111111,
             "#46039f"
            ],
            [
             0.2222222222222222,
             "#7201a8"
            ],
            [
             0.3333333333333333,
             "#9c179e"
            ],
            [
             0.4444444444444444,
             "#bd3786"
            ],
            [
             0.5555555555555556,
             "#d8576b"
            ],
            [
             0.6666666666666666,
             "#ed7953"
            ],
            [
             0.7777777777777778,
             "#fb9f3a"
            ],
            [
             0.8888888888888888,
             "#fdca26"
            ],
            [
             1,
             "#f0f921"
            ]
           ]
          },
          "colorway": [
           "#636efa",
           "#EF553B",
           "#00cc96",
           "#ab63fa",
           "#FFA15A",
           "#19d3f3",
           "#FF6692",
           "#B6E880",
           "#FF97FF",
           "#FECB52"
          ],
          "font": {
           "color": "#2a3f5f"
          },
          "geo": {
           "bgcolor": "white",
           "lakecolor": "white",
           "landcolor": "#E5ECF6",
           "showlakes": true,
           "showland": true,
           "subunitcolor": "white"
          },
          "hoverlabel": {
           "align": "left"
          },
          "hovermode": "closest",
          "mapbox": {
           "style": "light"
          },
          "paper_bgcolor": "white",
          "plot_bgcolor": "#E5ECF6",
          "polar": {
           "angularaxis": {
            "gridcolor": "white",
            "linecolor": "white",
            "ticks": ""
           },
           "bgcolor": "#E5ECF6",
           "radialaxis": {
            "gridcolor": "white",
            "linecolor": "white",
            "ticks": ""
           }
          },
          "scene": {
           "xaxis": {
            "backgroundcolor": "#E5ECF6",
            "gridcolor": "white",
            "gridwidth": 2,
            "linecolor": "white",
            "showbackground": true,
            "ticks": "",
            "zerolinecolor": "white"
           },
           "yaxis": {
            "backgroundcolor": "#E5ECF6",
            "gridcolor": "white",
            "gridwidth": 2,
            "linecolor": "white",
            "showbackground": true,
            "ticks": "",
            "zerolinecolor": "white"
           },
           "zaxis": {
            "backgroundcolor": "#E5ECF6",
            "gridcolor": "white",
            "gridwidth": 2,
            "linecolor": "white",
            "showbackground": true,
            "ticks": "",
            "zerolinecolor": "white"
           }
          },
          "shapedefaults": {
           "line": {
            "color": "#2a3f5f"
           }
          },
          "ternary": {
           "aaxis": {
            "gridcolor": "white",
            "linecolor": "white",
            "ticks": ""
           },
           "baxis": {
            "gridcolor": "white",
            "linecolor": "white",
            "ticks": ""
           },
           "bgcolor": "#E5ECF6",
           "caxis": {
            "gridcolor": "white",
            "linecolor": "white",
            "ticks": ""
           }
          },
          "title": {
           "x": 0.05
          },
          "xaxis": {
           "automargin": true,
           "gridcolor": "white",
           "linecolor": "white",
           "ticks": "",
           "title": {
            "standoff": 15
           },
           "zerolinecolor": "white",
           "zerolinewidth": 2
          },
          "yaxis": {
           "automargin": true,
           "gridcolor": "white",
           "linecolor": "white",
           "ticks": "",
           "title": {
            "standoff": 15
           },
           "zerolinecolor": "white",
           "zerolinewidth": 2
          }
         }
        },
        "xaxis": {
         "title": {
          "text": "Minimum longitudinal Separation [NM]"
         }
        },
        "yaxis": {
         "tickformat": ".1e",
         "title": {
          "text": "Fatal Accident per CDP"
         },
         "type": "log"
        }
       }
      }
     },
     "metadata": {},
     "output_type": "display_data"
    }
   ],
   "source": [
    "minute_climb_dist = st.uniform(3, 13 - 3)\n",
    "fig = go.Figure()\n",
    "for speed_error_scale in [4.5, 5.5, 6.5]:\n",
    "    sx_to_p = {}\n",
    "    for sx in range(20, 5, -1):\n",
    "        initial_longitudinal_spacing_dist = st.uniform(sx, 30 - sx)\n",
    "        sx_to_p[sx] = 2*averaged_risk(\n",
    "            minute_climb_dist=minute_climb_dist,\n",
    "            initial_longitudinal_spacing_dist=initial_longitudinal_spacing_dist,\n",
    "            lambda_xy_m=70,\n",
    "            lambda_z_ft=56,\n",
    "            max_speed_difference=0,\n",
    "            speed_error_scale=speed_error_scale,\n",
    "            climb_rate=1000,\n",
    "            speed_diff_std=15,\n",
    "        )\n",
    "    fig.add_trace(\n",
    "        go.Scatter(\n",
    "            x=list(sx_to_p.keys()),\n",
    "            y=list(sx_to_p.values()),\n",
    "            legendgroup=\"speed_error_scale\",\n",
    "            legendgrouptitle_text=\"speed_error_scale:\",\n",
    "            name=f\"{speed_error_scale}\",\n",
    "        )\n",
    "    )\n",
    "fig.add_hline(y=4e-8, line_dash=\"dash\", line_color=\"black\")\n",
    "\n",
    "fig.update_yaxes(type=\"log\")\n",
    "fig.update_yaxes(tickformat=\".1e\")\n",
    "fig.update_layout(\n",
    "    xaxis_title=\"Minimum longitudinal Separation [NM]\",\n",
    "    yaxis_title=\"Fatal Accident per CDP\",\n",
    ")\n",
    "fig.show()"
   ]
  },
  {
   "cell_type": "markdown",
   "metadata": {},
   "source": [
    "### Peak Risk:\n",
    "\n",
    "What is the collision risk when the the longitudinal separation is 15NM and the climb starts at the last minute?\n"
   ]
  },
  {
   "cell_type": "code",
   "execution_count": 7,
   "metadata": {},
   "outputs": [
    {
     "name": "stdout",
     "output_type": "stream",
     "text": [
      "Probability of collision: 9.847e-07\n"
     ]
    }
   ],
   "source": [
    "p = p_mac(\n",
    "    minute_climb=13,  # minutes after CDP clock start the climb is initiated\n",
    "    initial_longitudinal_spacing=15,  # longitudinal separation when the clock starts [NM]\n",
    "    lambda_xy_m=70,  # aircraft length [m]\n",
    "    lambda_z_ft=56,  # aircraft height [ft]\n",
    "    max_speed_difference=0,  # allowed speed difference (positive when the follower is faster) [knots]\n",
    "    speed_error_scale=6.5,  # speed error scale (laplace distribution)\n",
    "    climb_rate=1000,  # vertical rate [ft/min]\n",
    "    speed_diff_std=15,  # standard deviation of speed difference [knots]\n",
    ")\n",
    "\n",
    "print(f\"Probability of collision: {p:.3e}\")"
   ]
  }
 ],
 "metadata": {
  "kernelspec": {
   "display_name": ".venv",
   "language": "python",
   "name": "python3"
  },
  "language_info": {
   "codemirror_mode": {
    "name": "ipython",
    "version": 3
   },
   "file_extension": ".py",
   "mimetype": "text/x-python",
   "name": "python",
   "nbconvert_exporter": "python",
   "pygments_lexer": "ipython3",
   "version": "3.11.5"
  }
 },
 "nbformat": 4,
 "nbformat_minor": 2
}
