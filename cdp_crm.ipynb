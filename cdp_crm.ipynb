{
 "cells": [
  {
   "cell_type": "markdown",
   "metadata": {},
   "source": [
    "# Climb / Descend Procedure - Collision Risk Modelling"
   ]
  },
  {
   "cell_type": "code",
   "execution_count": 1,
   "metadata": {},
   "outputs": [],
   "source": [
    "import scipy.stats as st\n",
    "from scipy.integrate import nquad\n",
    "import numpy as np\n",
    "from functools import lru_cache\n",
    "import plotly.graph_objects as go"
   ]
  },
  {
   "cell_type": "markdown",
   "metadata": {},
   "source": [
    "### Modelling\n"
   ]
  },
  {
   "cell_type": "code",
   "execution_count": 2,
   "metadata": {},
   "outputs": [],
   "source": [
    "@lru_cache(maxsize=None)\n",
    "def get_p_excess(speed_diff_std, max_speed_difference, speed_error_scale, k=50000000):\n",
    "    \"\"\"Probability of follower faster by max_speed_difference than the leader.\"\"\"\n",
    "    # Generate random samples\n",
    "    v_follower = st.truncnorm(\n",
    "        loc=0, scale=speed_diff_std, a=-np.inf, b=max_speed_difference / speed_diff_std\n",
    "    )\n",
    "    speed_error_follower = st.laplace(0, speed_error_scale)\n",
    "    sample_speed_follower = v_follower.rvs(k) + speed_error_follower.rvs(k)\n",
    "\n",
    "    # Filter samples\n",
    "    vexcess = sample_speed_follower[sample_speed_follower > max_speed_difference]\n",
    "    return len(vexcess) / k\n",
    "\n",
    "\n",
    "def p_mac(\n",
    "    minute_climb,\n",
    "    initial_longitudinal_spacing,\n",
    "    lambda_xy_m,\n",
    "    lambda_z_ft,\n",
    "    max_speed_difference,\n",
    "    speed_error_scale,\n",
    "    climb_rate,\n",
    "    speed_diff_std,\n",
    "    **kwargs,\n",
    "):\n",
    "    \"\"\"\n",
    "    Calculate CDP  collision probability.\n",
    "\n",
    "    Parameters\n",
    "    ----------\n",
    "    minute_climb : float\n",
    "        Minute when the climb/descend is initiated (from\n",
    "        when the CDP clock is started).\n",
    "    initial_longitudinal_spacing : float\n",
    "        Initial longitudinal spacing between aircrafts.\n",
    "    lambda_xy_m : float\n",
    "        Aircraft length in [m].\n",
    "    lambda_z_ft : float\n",
    "        Aircraft height [ft].\n",
    "    max_speed_difference : float\n",
    "        Maximum difference in velocities between aircrafts allowed by the procedure.\n",
    "    speed_error_scale : float\n",
    "        Scale of speed error during climb (laplace dist).\n",
    "    climb_rate : float\n",
    "        Rate of climb [ft/min].\n",
    "    speed_diff_std : float\n",
    "        Standard deviation of speed difference.\n",
    "\n",
    "    Returns\n",
    "    -------\n",
    "    float\n",
    "        The probability of overlap.\n",
    "\n",
    "    \"\"\"\n",
    "\n",
    "    NM2M = 1852\n",
    "    level_spacing_ft = 1000\n",
    "\n",
    "    # Calculate times for vertical overlap start and end\n",
    "    t_start_volap = (\n",
    "        minute_climb + level_spacing_ft / climb_rate - lambda_z_ft / climb_rate\n",
    "    )\n",
    "    t_stop_volap = (\n",
    "        minute_climb + level_spacing_ft / climb_rate + lambda_z_ft / climb_rate\n",
    "    )\n",
    "\n",
    "    # Calculate minimum and maximum closing speeds to collide\n",
    "    v_col_min = (\n",
    "        60\n",
    "        * (np.abs(initial_longitudinal_spacing) - 1 * lambda_xy_m / NM2M)\n",
    "        / t_stop_volap\n",
    "    )\n",
    "    v_col_max = (\n",
    "        60\n",
    "        * (np.abs(initial_longitudinal_spacing) + 1 * lambda_xy_m / NM2M)\n",
    "        / t_start_volap\n",
    "    )\n",
    "\n",
    "    # Calculate probability of overlap given excess\n",
    "    polap_given_excess = st.expon.cdf(\n",
    "        loc=0, scale=speed_error_scale, x=v_col_max - max_speed_difference\n",
    "    ) - st.expon.cdf(loc=0, scale=speed_error_scale, x=v_col_min - max_speed_difference)\n",
    "\n",
    "    # Calculate excess probability\n",
    "    excess_probability = get_p_excess(\n",
    "        speed_diff_std, max_speed_difference, speed_error_scale, **kwargs\n",
    "    )\n",
    "\n",
    "    return polap_given_excess * excess_probability"
   ]
  },
  {
   "cell_type": "markdown",
   "metadata": {},
   "source": [
    "### Let's check on a Specific case\n"
   ]
  },
  {
   "cell_type": "code",
   "execution_count": 3,
   "metadata": {},
   "outputs": [
    {
     "name": "stdout",
     "output_type": "stream",
     "text": [
      "Probability of collision: 3.910e-10\n"
     ]
    }
   ],
   "source": [
    "p = p_mac(\n",
    "    minute_climb=10,  # minutes after CDP clock start the climb is initiated\n",
    "    initial_longitudinal_spacing=15,  # longitudinal separation when the clock starts [NM]\n",
    "    lambda_xy_m=70,  # aircraft length [m]\n",
    "    lambda_z_ft=56,  # aircraft height [ft]\n",
    "    max_speed_difference=0,  # allowed speed difference (positive when the follower is faster) [knots]\n",
    "    speed_error_scale=4.5,  # speed error scale (laplace distribution)\n",
    "    climb_rate=1000,  # vertical rate [ft/min]\n",
    "    speed_diff_std=15,  # standard deviation of speed difference [knots]\n",
    ")\n",
    "\n",
    "print(f\"Probability of collision: {p:.3e}\")"
   ]
  },
  {
   "cell_type": "markdown",
   "metadata": {},
   "source": [
    "### Let's do a bit of averaging:\n",
    "\n",
    "Let assume that the climb minute is uniformally distributed between 3 and 13 minutes and the initial longitudinal spacing is uniformally distributed between 15 and 30 NM\n"
   ]
  },
  {
   "cell_type": "code",
   "execution_count": 4,
   "metadata": {},
   "outputs": [
    {
     "name": "stdout",
     "output_type": "stream",
     "text": [
      "Probability of collision: 8.476e-11\n"
     ]
    }
   ],
   "source": [
    "def averaged_risk(\n",
    "    minute_climb_dist,\n",
    "    initial_longitudinal_spacing_dist,\n",
    "    lambda_xy_m,\n",
    "    lambda_z_ft,\n",
    "    max_speed_difference,\n",
    "    speed_error_scale,\n",
    "    climb_rate,\n",
    "    speed_diff_std,\n",
    "    ppf_bound=1e-12,\n",
    "    **kwargs,\n",
    "):\n",
    "    p, error = nquad(\n",
    "        lambda minute_climb, initial_longitudinal_spacing: p_mac(\n",
    "            minute_climb,\n",
    "            initial_longitudinal_spacing,\n",
    "            lambda_xy_m,\n",
    "            lambda_z_ft,\n",
    "            max_speed_difference,\n",
    "            speed_error_scale,\n",
    "            climb_rate,\n",
    "            speed_diff_std,\n",
    "        )\n",
    "        * minute_climb_dist.pdf(minute_climb)\n",
    "        * initial_longitudinal_spacing_dist.pdf(initial_longitudinal_spacing),\n",
    "        [\n",
    "            [minute_climb_dist.ppf(ppf_bound), minute_climb_dist.ppf(1 - ppf_bound)],\n",
    "            [\n",
    "                initial_longitudinal_spacing_dist.ppf(ppf_bound),\n",
    "                initial_longitudinal_spacing_dist.ppf(1 - ppf_bound),\n",
    "            ],\n",
    "        ],\n",
    "    )\n",
    "    if error > 1e-6:  # or whatever threshold you consider acceptable\n",
    "        raise ValueError(\n",
    "            f\"Did not converge with good precision, error: {error}\"\n",
    "        )\n",
    "    return p\n",
    "\n",
    "\n",
    "initial_longitudinal_spacing_dist = st.uniform(15, 30 - 15)\n",
    "minute_climb_dist = st.uniform(3, 13 - 3)\n",
    "\n",
    "p = averaged_risk(\n",
    "    minute_climb_dist=minute_climb_dist,\n",
    "    initial_longitudinal_spacing_dist=initial_longitudinal_spacing_dist,\n",
    "    lambda_xy_m=70,\n",
    "    lambda_z_ft=56,\n",
    "    max_speed_difference=0,\n",
    "    speed_error_scale=4.5,\n",
    "    climb_rate=1000,\n",
    "    speed_diff_std=15,\n",
    ")\n",
    "\n",
    "print(f\"Probability of collision: {p:.3e}\")"
   ]
  },
  {
   "cell_type": "code",
   "execution_count": 5,
   "metadata": {},
   "outputs": [
    {
     "data": {
      "application/vnd.plotly.v1+json": {
       "config": {
        "plotlyServerURL": "https://plot.ly"
       },
       "data": [
        {
         "legendgroup": "speed_error_scale",
         "legendgrouptitle": {
          "text": "speed_error_scale:"
         },
         "name": "4.5",
         "type": "scatter",
         "x": [
          20,
          19,
          18,
          17,
          16,
          15,
          14,
          13,
          12,
          11,
          10,
          9,
          8,
          7,
          6
         ],
         "y": [
          9.98810028733429e-13,
          2.3870045801170734e-12,
          5.75894284033064e-12,
          1.4010421772141256e-11,
          3.434129129843072e-11,
          8.475894675779337e-11,
          2.105691727638528e-10,
          5.264551441667107e-10,
          1.3245842171903747e-9,
          3.3544761912375577e-9,
          8.553911182428808e-9,
          2.1977700615340088e-8,
          5.695243908876418e-8,
          1.4907555655319087e-7,
          3.9504222844466986e-7
         ]
        },
        {
         "legendgroup": "speed_error_scale",
         "legendgrouptitle": {
          "text": "speed_error_scale:"
         },
         "name": "5.5",
         "type": "scatter",
         "x": [
          20,
          19,
          18,
          17,
          16,
          15,
          14,
          13,
          12,
          11,
          10,
          9,
          8,
          7,
          6
         ],
         "y": [
          4.590063904338138e-11,
          9.223282108748497e-11,
          1.87072147864323e-10,
          3.825650981107554e-10,
          7.881639116514729e-10,
          1.634886074705123e-9,
          3.413101327575865e-9,
          7.1698412682373106e-9,
          1.5154802743078442e-8,
          3.223516321801393e-8,
          6.902295165299296e-8,
          1.488650523709188e-7,
          3.236823512953135e-7,
          7.104946003893065e-7,
          0.0000015776190434570879
         ]
        },
        {
         "legendgroup": "speed_error_scale",
         "legendgrouptitle": {
          "text": "speed_error_scale:"
         },
         "name": "6.5",
         "type": "scatter",
         "x": [
          20,
          19,
          18,
          17,
          16,
          15,
          14,
          13,
          12,
          11,
          10,
          9,
          8,
          7,
          6
         ],
         "y": [
          6.776899554402719e-10,
          1.207932277170335e-9,
          2.1727405880852618e-9,
          3.939814545631448e-9,
          7.196222349212516e-9,
          1.323258115694738e-8,
          2.4486446198526436e-8,
          4.558798967599981e-8,
          8.538678401594327e-8,
          1.609129196567643e-7,
          3.0519485270091385e-7,
          5.828738024897704e-7,
          0.0000011218564163478043,
          0.000002178714735855329,
          0.0000042772742959980066
         ]
        }
       ],
       "layout": {
        "shapes": [
         {
          "line": {
           "color": "black",
           "dash": "dash"
          },
          "type": "line",
          "x0": 0,
          "x1": 1,
          "xref": "x domain",
          "y0": 1.5e-8,
          "y1": 1.5e-8,
          "yref": "y"
         },
         {
          "line": {
           "color": "black",
           "dash": "dash"
          },
          "type": "line",
          "x0": 0,
          "x1": 1,
          "xref": "x domain",
          "y0": 4e-8,
          "y1": 4e-8,
          "yref": "y"
         }
        ],
        "template": {
         "data": {
          "bar": [
           {
            "error_x": {
             "color": "#2a3f5f"
            },
            "error_y": {
             "color": "#2a3f5f"
            },
            "marker": {
             "line": {
              "color": "#E5ECF6",
              "width": 0.5
             },
             "pattern": {
              "fillmode": "overlay",
              "size": 10,
              "solidity": 0.2
             }
            },
            "type": "bar"
           }
          ],
          "barpolar": [
           {
            "marker": {
             "line": {
              "color": "#E5ECF6",
              "width": 0.5
             },
             "pattern": {
              "fillmode": "overlay",
              "size": 10,
              "solidity": 0.2
             }
            },
            "type": "barpolar"
           }
          ],
          "carpet": [
           {
            "aaxis": {
             "endlinecolor": "#2a3f5f",
             "gridcolor": "white",
             "linecolor": "white",
             "minorgridcolor": "white",
             "startlinecolor": "#2a3f5f"
            },
            "baxis": {
             "endlinecolor": "#2a3f5f",
             "gridcolor": "white",
             "linecolor": "white",
             "minorgridcolor": "white",
             "startlinecolor": "#2a3f5f"
            },
            "type": "carpet"
           }
          ],
          "choropleth": [
           {
            "colorbar": {
             "outlinewidth": 0,
             "ticks": ""
            },
            "type": "choropleth"
           }
          ],
          "contour": [
           {
            "colorbar": {
             "outlinewidth": 0,
             "ticks": ""
            },
            "colorscale": [
             [
              0,
              "#0d0887"
             ],
             [
              0.1111111111111111,
              "#46039f"
             ],
             [
              0.2222222222222222,
              "#7201a8"
             ],
             [
              0.3333333333333333,
              "#9c179e"
             ],
             [
              0.4444444444444444,
              "#bd3786"
             ],
             [
              0.5555555555555556,
              "#d8576b"
             ],
             [
              0.6666666666666666,
              "#ed7953"
             ],
             [
              0.7777777777777778,
              "#fb9f3a"
             ],
             [
              0.8888888888888888,
              "#fdca26"
             ],
             [
              1,
              "#f0f921"
             ]
            ],
            "type": "contour"
           }
          ],
          "contourcarpet": [
           {
            "colorbar": {
             "outlinewidth": 0,
             "ticks": ""
            },
            "type": "contourcarpet"
           }
          ],
          "heatmap": [
           {
            "colorbar": {
             "outlinewidth": 0,
             "ticks": ""
            },
            "colorscale": [
             [
              0,
              "#0d0887"
             ],
             [
              0.1111111111111111,
              "#46039f"
             ],
             [
              0.2222222222222222,
              "#7201a8"
             ],
             [
              0.3333333333333333,
              "#9c179e"
             ],
             [
              0.4444444444444444,
              "#bd3786"
             ],
             [
              0.5555555555555556,
              "#d8576b"
             ],
             [
              0.6666666666666666,
              "#ed7953"
             ],
             [
              0.7777777777777778,
              "#fb9f3a"
             ],
             [
              0.8888888888888888,
              "#fdca26"
             ],
             [
              1,
              "#f0f921"
             ]
            ],
            "type": "heatmap"
           }
          ],
          "heatmapgl": [
           {
            "colorbar": {
             "outlinewidth": 0,
             "ticks": ""
            },
            "colorscale": [
             [
              0,
              "#0d0887"
             ],
             [
              0.1111111111111111,
              "#46039f"
             ],
             [
              0.2222222222222222,
              "#7201a8"
             ],
             [
              0.3333333333333333,
              "#9c179e"
             ],
             [
              0.4444444444444444,
              "#bd3786"
             ],
             [
              0.5555555555555556,
              "#d8576b"
             ],
             [
              0.6666666666666666,
              "#ed7953"
             ],
             [
              0.7777777777777778,
              "#fb9f3a"
             ],
             [
              0.8888888888888888,
              "#fdca26"
             ],
             [
              1,
              "#f0f921"
             ]
            ],
            "type": "heatmapgl"
           }
          ],
          "histogram": [
           {
            "marker": {
             "pattern": {
              "fillmode": "overlay",
              "size": 10,
              "solidity": 0.2
             }
            },
            "type": "histogram"
           }
          ],
          "histogram2d": [
           {
            "colorbar": {
             "outlinewidth": 0,
             "ticks": ""
            },
            "colorscale": [
             [
              0,
              "#0d0887"
             ],
             [
              0.1111111111111111,
              "#46039f"
             ],
             [
              0.2222222222222222,
              "#7201a8"
             ],
             [
              0.3333333333333333,
              "#9c179e"
             ],
             [
              0.4444444444444444,
              "#bd3786"
             ],
             [
              0.5555555555555556,
              "#d8576b"
             ],
             [
              0.6666666666666666,
              "#ed7953"
             ],
             [
              0.7777777777777778,
              "#fb9f3a"
             ],
             [
              0.8888888888888888,
              "#fdca26"
             ],
             [
              1,
              "#f0f921"
             ]
            ],
            "type": "histogram2d"
           }
          ],
          "histogram2dcontour": [
           {
            "colorbar": {
             "outlinewidth": 0,
             "ticks": ""
            },
            "colorscale": [
             [
              0,
              "#0d0887"
             ],
             [
              0.1111111111111111,
              "#46039f"
             ],
             [
              0.2222222222222222,
              "#7201a8"
             ],
             [
              0.3333333333333333,
              "#9c179e"
             ],
             [
              0.4444444444444444,
              "#bd3786"
             ],
             [
              0.5555555555555556,
              "#d8576b"
             ],
             [
              0.6666666666666666,
              "#ed7953"
             ],
             [
              0.7777777777777778,
              "#fb9f3a"
             ],
             [
              0.8888888888888888,
              "#fdca26"
             ],
             [
              1,
              "#f0f921"
             ]
            ],
            "type": "histogram2dcontour"
           }
          ],
          "mesh3d": [
           {
            "colorbar": {
             "outlinewidth": 0,
             "ticks": ""
            },
            "type": "mesh3d"
           }
          ],
          "parcoords": [
           {
            "line": {
             "colorbar": {
              "outlinewidth": 0,
              "ticks": ""
             }
            },
            "type": "parcoords"
           }
          ],
          "pie": [
           {
            "automargin": true,
            "type": "pie"
           }
          ],
          "scatter": [
           {
            "fillpattern": {
             "fillmode": "overlay",
             "size": 10,
             "solidity": 0.2
            },
            "type": "scatter"
           }
          ],
          "scatter3d": [
           {
            "line": {
             "colorbar": {
              "outlinewidth": 0,
              "ticks": ""
             }
            },
            "marker": {
             "colorbar": {
              "outlinewidth": 0,
              "ticks": ""
             }
            },
            "type": "scatter3d"
           }
          ],
          "scattercarpet": [
           {
            "marker": {
             "colorbar": {
              "outlinewidth": 0,
              "ticks": ""
             }
            },
            "type": "scattercarpet"
           }
          ],
          "scattergeo": [
           {
            "marker": {
             "colorbar": {
              "outlinewidth": 0,
              "ticks": ""
             }
            },
            "type": "scattergeo"
           }
          ],
          "scattergl": [
           {
            "marker": {
             "colorbar": {
              "outlinewidth": 0,
              "ticks": ""
             }
            },
            "type": "scattergl"
           }
          ],
          "scattermapbox": [
           {
            "marker": {
             "colorbar": {
              "outlinewidth": 0,
              "ticks": ""
             }
            },
            "type": "scattermapbox"
           }
          ],
          "scatterpolar": [
           {
            "marker": {
             "colorbar": {
              "outlinewidth": 0,
              "ticks": ""
             }
            },
            "type": "scatterpolar"
           }
          ],
          "scatterpolargl": [
           {
            "marker": {
             "colorbar": {
              "outlinewidth": 0,
              "ticks": ""
             }
            },
            "type": "scatterpolargl"
           }
          ],
          "scatterternary": [
           {
            "marker": {
             "colorbar": {
              "outlinewidth": 0,
              "ticks": ""
             }
            },
            "type": "scatterternary"
           }
          ],
          "surface": [
           {
            "colorbar": {
             "outlinewidth": 0,
             "ticks": ""
            },
            "colorscale": [
             [
              0,
              "#0d0887"
             ],
             [
              0.1111111111111111,
              "#46039f"
             ],
             [
              0.2222222222222222,
              "#7201a8"
             ],
             [
              0.3333333333333333,
              "#9c179e"
             ],
             [
              0.4444444444444444,
              "#bd3786"
             ],
             [
              0.5555555555555556,
              "#d8576b"
             ],
             [
              0.6666666666666666,
              "#ed7953"
             ],
             [
              0.7777777777777778,
              "#fb9f3a"
             ],
             [
              0.8888888888888888,
              "#fdca26"
             ],
             [
              1,
              "#f0f921"
             ]
            ],
            "type": "surface"
           }
          ],
          "table": [
           {
            "cells": {
             "fill": {
              "color": "#EBF0F8"
             },
             "line": {
              "color": "white"
             }
            },
            "header": {
             "fill": {
              "color": "#C8D4E3"
             },
             "line": {
              "color": "white"
             }
            },
            "type": "table"
           }
          ]
         },
         "layout": {
          "annotationdefaults": {
           "arrowcolor": "#2a3f5f",
           "arrowhead": 0,
           "arrowwidth": 1
          },
          "autotypenumbers": "strict",
          "coloraxis": {
           "colorbar": {
            "outlinewidth": 0,
            "ticks": ""
           }
          },
          "colorscale": {
           "diverging": [
            [
             0,
             "#8e0152"
            ],
            [
             0.1,
             "#c51b7d"
            ],
            [
             0.2,
             "#de77ae"
            ],
            [
             0.3,
             "#f1b6da"
            ],
            [
             0.4,
             "#fde0ef"
            ],
            [
             0.5,
             "#f7f7f7"
            ],
            [
             0.6,
             "#e6f5d0"
            ],
            [
             0.7,
             "#b8e186"
            ],
            [
             0.8,
             "#7fbc41"
            ],
            [
             0.9,
             "#4d9221"
            ],
            [
             1,
             "#276419"
            ]
           ],
           "sequential": [
            [
             0,
             "#0d0887"
            ],
            [
             0.1111111111111111,
             "#46039f"
            ],
            [
             0.2222222222222222,
             "#7201a8"
            ],
            [
             0.3333333333333333,
             "#9c179e"
            ],
            [
             0.4444444444444444,
             "#bd3786"
            ],
            [
             0.5555555555555556,
             "#d8576b"
            ],
            [
             0.6666666666666666,
             "#ed7953"
            ],
            [
             0.7777777777777778,
             "#fb9f3a"
            ],
            [
             0.8888888888888888,
             "#fdca26"
            ],
            [
             1,
             "#f0f921"
            ]
           ],
           "sequentialminus": [
            [
             0,
             "#0d0887"
            ],
            [
             0.1111111111111111,
             "#46039f"
            ],
            [
             0.2222222222222222,
             "#7201a8"
            ],
            [
             0.3333333333333333,
             "#9c179e"
            ],
            [
             0.4444444444444444,
             "#bd3786"
            ],
            [
             0.5555555555555556,
             "#d8576b"
            ],
            [
             0.6666666666666666,
             "#ed7953"
            ],
            [
             0.7777777777777778,
             "#fb9f3a"
            ],
            [
             0.8888888888888888,
             "#fdca26"
            ],
            [
             1,
             "#f0f921"
            ]
           ]
          },
          "colorway": [
           "#636efa",
           "#EF553B",
           "#00cc96",
           "#ab63fa",
           "#FFA15A",
           "#19d3f3",
           "#FF6692",
           "#B6E880",
           "#FF97FF",
           "#FECB52"
          ],
          "font": {
           "color": "#2a3f5f"
          },
          "geo": {
           "bgcolor": "white",
           "lakecolor": "white",
           "landcolor": "#E5ECF6",
           "showlakes": true,
           "showland": true,
           "subunitcolor": "white"
          },
          "hoverlabel": {
           "align": "left"
          },
          "hovermode": "closest",
          "mapbox": {
           "style": "light"
          },
          "paper_bgcolor": "white",
          "plot_bgcolor": "#E5ECF6",
          "polar": {
           "angularaxis": {
            "gridcolor": "white",
            "linecolor": "white",
            "ticks": ""
           },
           "bgcolor": "#E5ECF6",
           "radialaxis": {
            "gridcolor": "white",
            "linecolor": "white",
            "ticks": ""
           }
          },
          "scene": {
           "xaxis": {
            "backgroundcolor": "#E5ECF6",
            "gridcolor": "white",
            "gridwidth": 2,
            "linecolor": "white",
            "showbackground": true,
            "ticks": "",
            "zerolinecolor": "white"
           },
           "yaxis": {
            "backgroundcolor": "#E5ECF6",
            "gridcolor": "white",
            "gridwidth": 2,
            "linecolor": "white",
            "showbackground": true,
            "ticks": "",
            "zerolinecolor": "white"
           },
           "zaxis": {
            "backgroundcolor": "#E5ECF6",
            "gridcolor": "white",
            "gridwidth": 2,
            "linecolor": "white",
            "showbackground": true,
            "ticks": "",
            "zerolinecolor": "white"
           }
          },
          "shapedefaults": {
           "line": {
            "color": "#2a3f5f"
           }
          },
          "ternary": {
           "aaxis": {
            "gridcolor": "white",
            "linecolor": "white",
            "ticks": ""
           },
           "baxis": {
            "gridcolor": "white",
            "linecolor": "white",
            "ticks": ""
           },
           "bgcolor": "#E5ECF6",
           "caxis": {
            "gridcolor": "white",
            "linecolor": "white",
            "ticks": ""
           }
          },
          "title": {
           "x": 0.05
          },
          "xaxis": {
           "automargin": true,
           "gridcolor": "white",
           "linecolor": "white",
           "ticks": "",
           "title": {
            "standoff": 15
           },
           "zerolinecolor": "white",
           "zerolinewidth": 2
          },
          "yaxis": {
           "automargin": true,
           "gridcolor": "white",
           "linecolor": "white",
           "ticks": "",
           "title": {
            "standoff": 15
           },
           "zerolinecolor": "white",
           "zerolinewidth": 2
          }
         }
        },
        "xaxis": {
         "title": {
          "text": "Minimum longitudinal Separation [NM]"
         }
        },
        "yaxis": {
         "tickformat": ".1e",
         "title": {
          "text": "Fatal Accident per CDP"
         },
         "type": "log"
        }
       }
      }
     },
     "metadata": {},
     "output_type": "display_data"
    }
   ],
   "source": [
    "minute_climb_dist = st.uniform(3, 13 - 3)\n",
    "fig = go.Figure()\n",
    "for speed_error_scale in [4.5, 5.5, 6.5]:\n",
    "    sx_to_p = {}\n",
    "    for sx in range(20, 5, -1):\n",
    "        initial_longitudinal_spacing_dist = st.uniform(sx, 30 - sx)\n",
    "        sx_to_p[sx] = averaged_risk(\n",
    "            minute_climb_dist=minute_climb_dist,\n",
    "            initial_longitudinal_spacing_dist=initial_longitudinal_spacing_dist,\n",
    "            lambda_xy_m=70,\n",
    "            lambda_z_ft=56,\n",
    "            max_speed_difference=0,\n",
    "            speed_error_scale=speed_error_scale,\n",
    "            climb_rate=1000,\n",
    "            speed_diff_std=15,\n",
    "        )\n",
    "    fig.add_trace(\n",
    "        go.Scatter(\n",
    "            x=list(sx_to_p.keys()),\n",
    "            y=list(sx_to_p.values()),\n",
    "            legendgroup=\"speed_error_scale\",\n",
    "            legendgrouptitle_text=\"speed_error_scale:\",\n",
    "            name=f\"{speed_error_scale}\",\n",
    "        )\n",
    "    )\n",
    "fig.add_hline(y=1.5e-8, line_dash=\"dash\", line_color=\"black\")\n",
    "fig.add_hline(y=4e-8, line_dash=\"dash\", line_color=\"black\")\n",
    "\n",
    "fig.update_yaxes(type=\"log\")\n",
    "fig.update_yaxes(tickformat=\".1e\")\n",
    "fig.update_layout(\n",
    "    xaxis_title=\"Minimum longitudinal Separation [NM]\",\n",
    "    yaxis_title=\"Fatal Accident per CDP\",\n",
    ")\n",
    "fig.show()"
   ]
  },
  {
   "cell_type": "markdown",
   "metadata": {},
   "source": [
    "### Peak Risk:\n",
    "\n",
    "What is the collision risk when the the longitudinal separation is 15NM and the climb starts at the last minute?\n"
   ]
  },
  {
   "cell_type": "code",
   "execution_count": 6,
   "metadata": {},
   "outputs": [
    {
     "name": "stdout",
     "output_type": "stream",
     "text": [
      "Probability of collision: 9.843e-07\n"
     ]
    }
   ],
   "source": [
    "p = p_mac(\n",
    "    minute_climb=13,  # minutes after CDP clock start the climb is initiated\n",
    "    initial_longitudinal_spacing=15,  # longitudinal separation when the clock starts [NM]\n",
    "    lambda_xy_m=70,  # aircraft length [m]\n",
    "    lambda_z_ft=56,  # aircraft height [ft]\n",
    "    max_speed_difference=0,  # allowed speed difference (positive when the follower is faster) [knots]\n",
    "    speed_error_scale=6.5,  # speed error scale (laplace distribution)\n",
    "    climb_rate=1000,  # vertical rate [ft/min]\n",
    "    speed_diff_std=15,  # standard deviation of speed difference [knots]\n",
    ")\n",
    "\n",
    "print(f\"Probability of collision: {p:.3e}\")"
   ]
  }
 ],
 "metadata": {
  "kernelspec": {
   "display_name": ".venv",
   "language": "python",
   "name": "python3"
  },
  "language_info": {
   "codemirror_mode": {
    "name": "ipython",
    "version": 3
   },
   "file_extension": ".py",
   "mimetype": "text/x-python",
   "name": "python",
   "nbconvert_exporter": "python",
   "pygments_lexer": "ipython3",
   "version": "3.11.5"
  }
 },
 "nbformat": 4,
 "nbformat_minor": 2
}
