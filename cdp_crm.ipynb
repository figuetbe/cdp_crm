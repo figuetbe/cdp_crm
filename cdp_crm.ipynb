{
 "cells": [
  {
   "cell_type": "markdown",
   "metadata": {},
   "source": [
    "# Climb / Descend Procedure - Collision Risk Modelling"
   ]
  },
  {
   "cell_type": "code",
   "execution_count": 14,
   "metadata": {},
   "outputs": [],
   "source": [
    "import scipy.stats as st\n",
    "from scipy.integrate import nquad\n",
    "import numpy as np\n",
    "from functools import lru_cache\n",
    "import plotly.graph_objects as go\n",
    "import plotly.io as pio\n",
    "pio.renderers.default = \"png\"\n"
   ]
  },
  {
   "cell_type": "markdown",
   "metadata": {},
   "source": [
    "### Modelling\n"
   ]
  },
  {
   "cell_type": "code",
   "execution_count": 15,
   "metadata": {},
   "outputs": [],
   "source": [
    "@lru_cache(maxsize=None)\n",
    "def get_p_excess(speed_diff_std, max_speed_difference, speed_error_scale, k=50000000):\n",
    "    \"\"\"Probability of follower faster by max_speed_difference than the leader.\"\"\"\n",
    "    # Generate random samples\n",
    "    v_follower = st.truncnorm(\n",
    "        loc=0, scale=speed_diff_std, a=-np.inf, b=max_speed_difference / speed_diff_std\n",
    "    )\n",
    "    speed_error_follower = st.laplace(0, speed_error_scale)\n",
    "    sample_speed_follower = v_follower.rvs(k) + speed_error_follower.rvs(k)\n",
    "\n",
    "    # Filter samples\n",
    "    vexcess = sample_speed_follower[sample_speed_follower > max_speed_difference]\n",
    "    return len(vexcess) / k\n",
    "\n",
    "\n",
    "def p_mac(\n",
    "    minute_climb,\n",
    "    initial_longitudinal_spacing,\n",
    "    lambda_xy_m,\n",
    "    lambda_z_ft,\n",
    "    max_speed_difference,\n",
    "    speed_error_scale,\n",
    "    climb_rate,\n",
    "    speed_diff_std,\n",
    "    **kwargs,\n",
    "):\n",
    "    \"\"\"\n",
    "    Calculate CDP  collision probability.\n",
    "\n",
    "    Parameters\n",
    "    ----------\n",
    "    minute_climb : float\n",
    "        Minute when the climb/descend is initiated (from\n",
    "        when the CDP clock is started).\n",
    "    initial_longitudinal_spacing : float\n",
    "        Initial longitudinal spacing between aircrafts.\n",
    "    lambda_xy_m : float\n",
    "        Aircraft length in [m].\n",
    "    lambda_z_ft : float\n",
    "        Aircraft height [ft].\n",
    "    max_speed_difference : float\n",
    "        Maximum difference in velocities between aircrafts allowed by the procedure.\n",
    "    speed_error_scale : float\n",
    "        Scale of speed error during climb (laplace dist).\n",
    "    climb_rate : float\n",
    "        Rate of climb [ft/min].\n",
    "    speed_diff_std : float\n",
    "        Standard deviation of speed difference.\n",
    "\n",
    "    Returns\n",
    "    -------\n",
    "    float\n",
    "        The probability of overlap.\n",
    "\n",
    "    \"\"\"\n",
    "\n",
    "    NM2M = 1852\n",
    "    level_spacing_ft = 1000\n",
    "\n",
    "    # Calculate times for vertical overlap start and end\n",
    "    t_start_volap = (\n",
    "        minute_climb + level_spacing_ft / climb_rate - lambda_z_ft / climb_rate\n",
    "    )\n",
    "    t_stop_volap = (\n",
    "        minute_climb + level_spacing_ft / climb_rate + lambda_z_ft / climb_rate\n",
    "    )\n",
    "\n",
    "    # Calculate minimum and maximum closing speeds to collide\n",
    "    v_col_min = (\n",
    "        60\n",
    "        * (np.abs(initial_longitudinal_spacing) - 1 * lambda_xy_m / NM2M)\n",
    "        / t_stop_volap\n",
    "    )\n",
    "    v_col_max = (\n",
    "        60\n",
    "        * (np.abs(initial_longitudinal_spacing) + 1 * lambda_xy_m / NM2M)\n",
    "        / t_start_volap\n",
    "    )\n",
    "\n",
    "    # Calculate probability of overlap given excess\n",
    "    polap_given_excess = st.expon.cdf(\n",
    "        loc=0, scale=speed_error_scale, x=v_col_max - max_speed_difference\n",
    "    ) - st.expon.cdf(loc=0, scale=speed_error_scale, x=v_col_min - max_speed_difference)\n",
    "\n",
    "    # Calculate excess probability\n",
    "    excess_probability = get_p_excess(\n",
    "        speed_diff_std, max_speed_difference, speed_error_scale, **kwargs\n",
    "    )\n",
    "\n",
    "    return polap_given_excess * excess_probability"
   ]
  },
  {
   "cell_type": "markdown",
   "metadata": {},
   "source": [
    "### Let's check on a Specific case\n"
   ]
  },
  {
   "cell_type": "code",
   "execution_count": 16,
   "metadata": {},
   "outputs": [
    {
     "name": "stdout",
     "output_type": "stream",
     "text": [
      "Probability of collision: 3.908e-10\n"
     ]
    }
   ],
   "source": [
    "p = p_mac(\n",
    "    minute_climb=10,  # minutes after CDP clock start the climb is initiated\n",
    "    initial_longitudinal_spacing=15,  # longitudinal separation when the clock starts [NM]\n",
    "    lambda_xy_m=70,  # aircraft length [m]\n",
    "    lambda_z_ft=56,  # aircraft height [ft]\n",
    "    max_speed_difference=0,  # allowed speed difference (positive when the follower is faster) [knots]\n",
    "    speed_error_scale=4.5,  # speed error scale (laplace distribution)\n",
    "    climb_rate=1000,  # vertical rate [ft/min]\n",
    "    speed_diff_std=15,  # standard deviation of speed difference [knots]\n",
    ")\n",
    "\n",
    "print(f\"Probability of collision: {p:.3e}\")"
   ]
  },
  {
   "cell_type": "markdown",
   "metadata": {},
   "source": [
    "### Let's do a bit of averaging:\n",
    "\n",
    "Let assume that the climb minute is uniformally distributed between 3 and 13 minutes and the initial longitudinal spacing is uniformally distributed between 15 and 30 NM\n"
   ]
  },
  {
   "cell_type": "code",
   "execution_count": 17,
   "metadata": {},
   "outputs": [
    {
     "name": "stdout",
     "output_type": "stream",
     "text": [
      "Probability of collision: 8.471e-11\n"
     ]
    }
   ],
   "source": [
    "def averaged_risk(\n",
    "    minute_climb_dist,\n",
    "    initial_longitudinal_spacing_dist,\n",
    "    lambda_xy_m,\n",
    "    lambda_z_ft,\n",
    "    max_speed_difference,\n",
    "    speed_error_scale,\n",
    "    climb_rate,\n",
    "    speed_diff_std,\n",
    "    ppf_bound=1e-12,\n",
    "    **kwargs,\n",
    "):\n",
    "    p, error = nquad(\n",
    "        lambda minute_climb, initial_longitudinal_spacing: p_mac(\n",
    "            minute_climb,\n",
    "            initial_longitudinal_spacing,\n",
    "            lambda_xy_m,\n",
    "            lambda_z_ft,\n",
    "            max_speed_difference,\n",
    "            speed_error_scale,\n",
    "            climb_rate,\n",
    "            speed_diff_std,\n",
    "        )\n",
    "        * minute_climb_dist.pdf(minute_climb)\n",
    "        * initial_longitudinal_spacing_dist.pdf(initial_longitudinal_spacing),\n",
    "        [\n",
    "            [minute_climb_dist.ppf(ppf_bound), minute_climb_dist.ppf(1 - ppf_bound)],\n",
    "            [\n",
    "                initial_longitudinal_spacing_dist.ppf(ppf_bound),\n",
    "                initial_longitudinal_spacing_dist.ppf(1 - ppf_bound),\n",
    "            ],\n",
    "        ],\n",
    "    )\n",
    "    if error > 1e-6:  # or whatever threshold you consider acceptable\n",
    "        raise ValueError(\n",
    "            f\"Did not converge with good precision, error: {error}\"\n",
    "        )\n",
    "    return p\n",
    "\n",
    "\n",
    "initial_longitudinal_spacing_dist = st.uniform(15, 30 - 15)\n",
    "minute_climb_dist = st.uniform(3, 13 - 3)\n",
    "\n",
    "p = averaged_risk(\n",
    "    minute_climb_dist=minute_climb_dist,\n",
    "    initial_longitudinal_spacing_dist=initial_longitudinal_spacing_dist,\n",
    "    lambda_xy_m=70,\n",
    "    lambda_z_ft=56,\n",
    "    max_speed_difference=0,\n",
    "    speed_error_scale=4.5,\n",
    "    climb_rate=1000,\n",
    "    speed_diff_std=15,\n",
    ")\n",
    "\n",
    "print(f\"Probability of collision: {p:.3e}\")"
   ]
  },
  {
   "cell_type": "code",
   "execution_count": 18,
   "metadata": {},
   "outputs": [
    {
     "ename": "ValueError",
     "evalue": "\nImage export using the \"kaleido\" engine requires the kaleido package,\nwhich can be installed using pip:\n    $ pip install -U kaleido\n",
     "output_type": "error",
     "traceback": [
      "\u001b[0;31m---------------------------------------------------------------------------\u001b[0m",
      "\u001b[0;31mValueError\u001b[0m                                Traceback (most recent call last)",
      "Cell \u001b[0;32mIn[18], line 34\u001b[0m\n\u001b[1;32m     29\u001b[0m fig\u001b[38;5;241m.\u001b[39mupdate_yaxes(tickformat\u001b[38;5;241m=\u001b[39m\u001b[38;5;124m\"\u001b[39m\u001b[38;5;124m.1e\u001b[39m\u001b[38;5;124m\"\u001b[39m)\n\u001b[1;32m     30\u001b[0m fig\u001b[38;5;241m.\u001b[39mupdate_layout(\n\u001b[1;32m     31\u001b[0m     xaxis_title\u001b[38;5;241m=\u001b[39m\u001b[38;5;124m\"\u001b[39m\u001b[38;5;124mMinimum longitudinal Separation [NM]\u001b[39m\u001b[38;5;124m\"\u001b[39m,\n\u001b[1;32m     32\u001b[0m     yaxis_title\u001b[38;5;241m=\u001b[39m\u001b[38;5;124m\"\u001b[39m\u001b[38;5;124mFatal Accident per CDP\u001b[39m\u001b[38;5;124m\"\u001b[39m,\n\u001b[1;32m     33\u001b[0m )\n\u001b[0;32m---> 34\u001b[0m \u001b[43mfig\u001b[49m\u001b[38;5;241;43m.\u001b[39;49m\u001b[43mshow\u001b[49m\u001b[43m(\u001b[49m\u001b[43m)\u001b[49m\n",
      "File \u001b[0;32m~/Documents/git/CDP_CRM/.venv/lib/python3.11/site-packages/plotly/basedatatypes.py:3410\u001b[0m, in \u001b[0;36mBaseFigure.show\u001b[0;34m(self, *args, **kwargs)\u001b[0m\n\u001b[1;32m   3377\u001b[0m \u001b[38;5;250m\u001b[39m\u001b[38;5;124;03m\"\"\"\u001b[39;00m\n\u001b[1;32m   3378\u001b[0m \u001b[38;5;124;03mShow a figure using either the default renderer(s) or the renderer(s)\u001b[39;00m\n\u001b[1;32m   3379\u001b[0m \u001b[38;5;124;03mspecified by the renderer argument\u001b[39;00m\n\u001b[0;32m   (...)\u001b[0m\n\u001b[1;32m   3406\u001b[0m \u001b[38;5;124;03mNone\u001b[39;00m\n\u001b[1;32m   3407\u001b[0m \u001b[38;5;124;03m\"\"\"\u001b[39;00m\n\u001b[1;32m   3408\u001b[0m \u001b[38;5;28;01mimport\u001b[39;00m \u001b[38;5;21;01mplotly\u001b[39;00m\u001b[38;5;21;01m.\u001b[39;00m\u001b[38;5;21;01mio\u001b[39;00m \u001b[38;5;28;01mas\u001b[39;00m \u001b[38;5;21;01mpio\u001b[39;00m\n\u001b[0;32m-> 3410\u001b[0m \u001b[38;5;28;01mreturn\u001b[39;00m \u001b[43mpio\u001b[49m\u001b[38;5;241;43m.\u001b[39;49m\u001b[43mshow\u001b[49m\u001b[43m(\u001b[49m\u001b[38;5;28;43mself\u001b[39;49m\u001b[43m,\u001b[49m\u001b[43m \u001b[49m\u001b[38;5;241;43m*\u001b[39;49m\u001b[43margs\u001b[49m\u001b[43m,\u001b[49m\u001b[43m \u001b[49m\u001b[38;5;241;43m*\u001b[39;49m\u001b[38;5;241;43m*\u001b[39;49m\u001b[43mkwargs\u001b[49m\u001b[43m)\u001b[49m\n",
      "File \u001b[0;32m~/Documents/git/CDP_CRM/.venv/lib/python3.11/site-packages/plotly/io/_renderers.py:386\u001b[0m, in \u001b[0;36mshow\u001b[0;34m(fig, renderer, validate, **kwargs)\u001b[0m\n\u001b[1;32m    383\u001b[0m fig_dict \u001b[38;5;241m=\u001b[39m validate_coerce_fig_to_dict(fig, validate)\n\u001b[1;32m    385\u001b[0m \u001b[38;5;66;03m# Mimetype renderers\u001b[39;00m\n\u001b[0;32m--> 386\u001b[0m bundle \u001b[38;5;241m=\u001b[39m \u001b[43mrenderers\u001b[49m\u001b[38;5;241;43m.\u001b[39;49m\u001b[43m_build_mime_bundle\u001b[49m\u001b[43m(\u001b[49m\u001b[43mfig_dict\u001b[49m\u001b[43m,\u001b[49m\u001b[43m \u001b[49m\u001b[43mrenderers_string\u001b[49m\u001b[38;5;241;43m=\u001b[39;49m\u001b[43mrenderer\u001b[49m\u001b[43m,\u001b[49m\u001b[43m \u001b[49m\u001b[38;5;241;43m*\u001b[39;49m\u001b[38;5;241;43m*\u001b[39;49m\u001b[43mkwargs\u001b[49m\u001b[43m)\u001b[49m\n\u001b[1;32m    387\u001b[0m \u001b[38;5;28;01mif\u001b[39;00m bundle:\n\u001b[1;32m    388\u001b[0m     \u001b[38;5;28;01mif\u001b[39;00m \u001b[38;5;129;01mnot\u001b[39;00m ipython_display:\n",
      "File \u001b[0;32m~/Documents/git/CDP_CRM/.venv/lib/python3.11/site-packages/plotly/io/_renderers.py:294\u001b[0m, in \u001b[0;36mRenderersConfig._build_mime_bundle\u001b[0;34m(self, fig_dict, renderers_string, **kwargs)\u001b[0m\n\u001b[1;32m    291\u001b[0m             \u001b[38;5;28;01mif\u001b[39;00m \u001b[38;5;28mhasattr\u001b[39m(renderer, k):\n\u001b[1;32m    292\u001b[0m                 \u001b[38;5;28msetattr\u001b[39m(renderer, k, v)\n\u001b[0;32m--> 294\u001b[0m         bundle\u001b[38;5;241m.\u001b[39mupdate(\u001b[43mrenderer\u001b[49m\u001b[38;5;241;43m.\u001b[39;49m\u001b[43mto_mimebundle\u001b[49m\u001b[43m(\u001b[49m\u001b[43mfig_dict\u001b[49m\u001b[43m)\u001b[49m)\n\u001b[1;32m    296\u001b[0m \u001b[38;5;28;01mreturn\u001b[39;00m bundle\n",
      "File \u001b[0;32m~/Documents/git/CDP_CRM/.venv/lib/python3.11/site-packages/plotly/io/_base_renderers.py:126\u001b[0m, in \u001b[0;36mImageRenderer.to_mimebundle\u001b[0;34m(self, fig_dict)\u001b[0m\n\u001b[1;32m    125\u001b[0m \u001b[38;5;28;01mdef\u001b[39;00m \u001b[38;5;21mto_mimebundle\u001b[39m(\u001b[38;5;28mself\u001b[39m, fig_dict):\n\u001b[0;32m--> 126\u001b[0m     image_bytes \u001b[38;5;241m=\u001b[39m \u001b[43mto_image\u001b[49m\u001b[43m(\u001b[49m\n\u001b[1;32m    127\u001b[0m \u001b[43m        \u001b[49m\u001b[43mfig_dict\u001b[49m\u001b[43m,\u001b[49m\n\u001b[1;32m    128\u001b[0m \u001b[43m        \u001b[49m\u001b[38;5;28;43mformat\u001b[39;49m\u001b[38;5;241;43m=\u001b[39;49m\u001b[38;5;28;43mself\u001b[39;49m\u001b[38;5;241;43m.\u001b[39;49m\u001b[43mformat\u001b[49m\u001b[43m,\u001b[49m\n\u001b[1;32m    129\u001b[0m \u001b[43m        \u001b[49m\u001b[43mwidth\u001b[49m\u001b[38;5;241;43m=\u001b[39;49m\u001b[38;5;28;43mself\u001b[39;49m\u001b[38;5;241;43m.\u001b[39;49m\u001b[43mwidth\u001b[49m\u001b[43m,\u001b[49m\n\u001b[1;32m    130\u001b[0m \u001b[43m        \u001b[49m\u001b[43mheight\u001b[49m\u001b[38;5;241;43m=\u001b[39;49m\u001b[38;5;28;43mself\u001b[39;49m\u001b[38;5;241;43m.\u001b[39;49m\u001b[43mheight\u001b[49m\u001b[43m,\u001b[49m\n\u001b[1;32m    131\u001b[0m \u001b[43m        \u001b[49m\u001b[43mscale\u001b[49m\u001b[38;5;241;43m=\u001b[39;49m\u001b[38;5;28;43mself\u001b[39;49m\u001b[38;5;241;43m.\u001b[39;49m\u001b[43mscale\u001b[49m\u001b[43m,\u001b[49m\n\u001b[1;32m    132\u001b[0m \u001b[43m        \u001b[49m\u001b[43mvalidate\u001b[49m\u001b[38;5;241;43m=\u001b[39;49m\u001b[38;5;28;43;01mFalse\u001b[39;49;00m\u001b[43m,\u001b[49m\n\u001b[1;32m    133\u001b[0m \u001b[43m        \u001b[49m\u001b[43mengine\u001b[49m\u001b[38;5;241;43m=\u001b[39;49m\u001b[38;5;28;43mself\u001b[39;49m\u001b[38;5;241;43m.\u001b[39;49m\u001b[43mengine\u001b[49m\u001b[43m,\u001b[49m\n\u001b[1;32m    134\u001b[0m \u001b[43m    \u001b[49m\u001b[43m)\u001b[49m\n\u001b[1;32m    136\u001b[0m     \u001b[38;5;28;01mif\u001b[39;00m \u001b[38;5;28mself\u001b[39m\u001b[38;5;241m.\u001b[39mb64_encode:\n\u001b[1;32m    137\u001b[0m         image_str \u001b[38;5;241m=\u001b[39m base64\u001b[38;5;241m.\u001b[39mb64encode(image_bytes)\u001b[38;5;241m.\u001b[39mdecode(\u001b[38;5;124m\"\u001b[39m\u001b[38;5;124mutf8\u001b[39m\u001b[38;5;124m\"\u001b[39m)\n",
      "File \u001b[0;32m~/Documents/git/CDP_CRM/.venv/lib/python3.11/site-packages/plotly/io/_kaleido.py:132\u001b[0m, in \u001b[0;36mto_image\u001b[0;34m(fig, format, width, height, scale, validate, engine)\u001b[0m\n\u001b[1;32m    130\u001b[0m     \u001b[38;5;66;03m# Raise informative error message if Kaleido is not installed\u001b[39;00m\n\u001b[1;32m    131\u001b[0m     \u001b[38;5;28;01mif\u001b[39;00m scope \u001b[38;5;129;01mis\u001b[39;00m \u001b[38;5;28;01mNone\u001b[39;00m:\n\u001b[0;32m--> 132\u001b[0m         \u001b[38;5;28;01mraise\u001b[39;00m \u001b[38;5;167;01mValueError\u001b[39;00m(\n\u001b[1;32m    133\u001b[0m \u001b[38;5;250m            \u001b[39m\u001b[38;5;124;03m\"\"\"\u001b[39;00m\n\u001b[1;32m    134\u001b[0m \u001b[38;5;124;03mImage export using the \"kaleido\" engine requires the kaleido package,\u001b[39;00m\n\u001b[1;32m    135\u001b[0m \u001b[38;5;124;03mwhich can be installed using pip:\u001b[39;00m\n\u001b[1;32m    136\u001b[0m \u001b[38;5;124;03m    $ pip install -U kaleido\u001b[39;00m\n\u001b[1;32m    137\u001b[0m \u001b[38;5;124;03m\"\"\"\u001b[39;00m\n\u001b[1;32m    138\u001b[0m         )\n\u001b[1;32m    140\u001b[0m     \u001b[38;5;66;03m# Validate figure\u001b[39;00m\n\u001b[1;32m    141\u001b[0m     \u001b[38;5;66;03m# ---------------\u001b[39;00m\n\u001b[1;32m    142\u001b[0m     fig_dict \u001b[38;5;241m=\u001b[39m validate_coerce_fig_to_dict(fig, validate)\n",
      "\u001b[0;31mValueError\u001b[0m: \nImage export using the \"kaleido\" engine requires the kaleido package,\nwhich can be installed using pip:\n    $ pip install -U kaleido\n"
     ]
    }
   ],
   "source": [
    "minute_climb_dist = st.uniform(3, 13 - 3)\n",
    "fig = go.Figure()\n",
    "for speed_error_scale in [4.5, 5.5, 6.5]:\n",
    "    sx_to_p = {}\n",
    "    for sx in range(20, 5, -1):\n",
    "        initial_longitudinal_spacing_dist = st.uniform(sx, 30 - sx)\n",
    "        sx_to_p[sx] = 2*averaged_risk(\n",
    "            minute_climb_dist=minute_climb_dist,\n",
    "            initial_longitudinal_spacing_dist=initial_longitudinal_spacing_dist,\n",
    "            lambda_xy_m=70,\n",
    "            lambda_z_ft=56,\n",
    "            max_speed_difference=0,\n",
    "            speed_error_scale=speed_error_scale,\n",
    "            climb_rate=1000,\n",
    "            speed_diff_std=15,\n",
    "        )\n",
    "    fig.add_trace(\n",
    "        go.Scatter(\n",
    "            x=list(sx_to_p.keys()),\n",
    "            y=list(sx_to_p.values()),\n",
    "            legendgroup=\"speed_error_scale\",\n",
    "            legendgrouptitle_text=\"speed_error_scale:\",\n",
    "            name=f\"{speed_error_scale}\",\n",
    "        )\n",
    "    )\n",
    "fig.add_hline(y=4e-8, line_dash=\"dash\", line_color=\"black\")\n",
    "\n",
    "fig.update_yaxes(type=\"log\")\n",
    "fig.update_yaxes(tickformat=\".1e\")\n",
    "fig.update_layout(\n",
    "    xaxis_title=\"Minimum longitudinal Separation [NM]\",\n",
    "    yaxis_title=\"Fatal Accident per CDP\",\n",
    ")\n",
    "fig.show()"
   ]
  },
  {
   "cell_type": "markdown",
   "metadata": {},
   "source": [
    "### Peak Risk:\n",
    "\n",
    "What is the collision risk when the the longitudinal separation is 15NM and the climb starts at the last minute?\n"
   ]
  },
  {
   "cell_type": "code",
   "execution_count": null,
   "metadata": {},
   "outputs": [
    {
     "name": "stdout",
     "output_type": "stream",
     "text": [
      "Probability of collision: 9.847e-07\n"
     ]
    }
   ],
   "source": [
    "p = p_mac(\n",
    "    minute_climb=13,  # minutes after CDP clock start the climb is initiated\n",
    "    initial_longitudinal_spacing=15,  # longitudinal separation when the clock starts [NM]\n",
    "    lambda_xy_m=70,  # aircraft length [m]\n",
    "    lambda_z_ft=56,  # aircraft height [ft]\n",
    "    max_speed_difference=0,  # allowed speed difference (positive when the follower is faster) [knots]\n",
    "    speed_error_scale=6.5,  # speed error scale (laplace distribution)\n",
    "    climb_rate=1000,  # vertical rate [ft/min]\n",
    "    speed_diff_std=15,  # standard deviation of speed difference [knots]\n",
    ")\n",
    "\n",
    "print(f\"Probability of collision: {p:.3e}\")"
   ]
  }
 ],
 "metadata": {
  "kernelspec": {
   "display_name": ".venv",
   "language": "python",
   "name": "python3"
  },
  "language_info": {
   "codemirror_mode": {
    "name": "ipython",
    "version": 3
   },
   "file_extension": ".py",
   "mimetype": "text/x-python",
   "name": "python",
   "nbconvert_exporter": "python",
   "pygments_lexer": "ipython3",
   "version": "3.11.5"
  }
 },
 "nbformat": 4,
 "nbformat_minor": 2
}
